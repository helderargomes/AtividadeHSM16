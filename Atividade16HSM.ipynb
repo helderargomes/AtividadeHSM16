{
  "nbformat": 4,
  "nbformat_minor": 0,
  "metadata": {
    "colab": {
      "name": "Atividade16HSM.ipynb",
      "provenance": [],
      "collapsed_sections": []
    },
    "kernelspec": {
      "name": "python3",
      "display_name": "Python 3"
    },
    "language_info": {
      "name": "python"
    }
  },
  "cells": [
    {
      "cell_type": "code",
      "execution_count": 12,
      "metadata": {
        "id": "bVufRQsbgi0F"
      },
      "outputs": [],
      "source": [
        "# Importando as bibliotecas NumPy e Pandas\n",
        "import numpy as np\n",
        "import pandas as pd\n",
        "import matplotlib.pyplot as plt"
      ]
    },
    {
      "cell_type": "code",
      "source": [
        "# Importando a base de dados de infrações de trânsito no mês de julho de 2020\n",
        "db = pd.read_csv('julho.csv', sep=';')"
      ],
      "metadata": {
        "id": "LHGS_ej5htuw"
      },
      "execution_count": 2,
      "outputs": []
    },
    {
      "cell_type": "code",
      "source": [
        "# Verificando o cabeçalho do arquivo\n",
        "db.head()"
      ],
      "metadata": {
        "id": "3UrTqrEri7N-"
      },
      "execution_count": null,
      "outputs": []
    },
    {
      "cell_type": "code",
      "source": [
        "# Avaliando o tamanho do arquivo\n",
        "db.shape"
      ],
      "metadata": {
        "id": "eXYU_OvKjMT8",
        "colab": {
          "base_uri": "https://localhost:8080/"
        },
        "outputId": "611d1499-0322-471f-e76d-81f160ce60a3"
      },
      "execution_count": 3,
      "outputs": [
        {
          "output_type": "execute_result",
          "data": {
            "text/plain": [
              "(9752, 13)"
            ]
          },
          "metadata": {},
          "execution_count": 3
        }
      ]
    },
    {
      "cell_type": "code",
      "source": [
        "# Avaliando os tipos de dados do dataframe\n",
        "db.dtypes"
      ],
      "metadata": {
        "id": "XpHKJ03bjTTh",
        "colab": {
          "base_uri": "https://localhost:8080/"
        },
        "outputId": "4fc1ae49-bf92-4a42-c259-612e8ca99a53"
      },
      "execution_count": 5,
      "outputs": [
        {
          "output_type": "execute_result",
          "data": {
            "text/plain": [
              "tipo_infracao               object\n",
              "descricao                   object\n",
              "tipo_infrator               object\n",
              "tipo_veiculo                object\n",
              "cometimento                 object\n",
              "hora_cometimento            object\n",
              "auinf_local_rodovia         object\n",
              "auinf_local_km             float64\n",
              "auinf_local_referencia      object\n",
              "auinf_local_complemento     object\n",
              "auinf_local_latitude        object\n",
              "auinf_local_longitude       object\n",
              "grav_tipo                   object\n",
              "dtype: object"
            ]
          },
          "metadata": {},
          "execution_count": 5
        }
      ]
    },
    {
      "cell_type": "code",
      "source": [
        "# Ao avaliar os tipos de dados, já se nota uma necessidade: alterar o tipo de dado da coluna \"cometimento\" de object (string) para data\n",
        "db[\"cometimento\"] = pd.to_datetime(db[\"cometimento\"])"
      ],
      "metadata": {
        "id": "4Q9G6jnmjhIe"
      },
      "execution_count": null,
      "outputs": []
    },
    {
      "cell_type": "code",
      "source": [
        "# Verificando se a transformação de tipos de dados ocorreu\n",
        "db.dtypes"
      ],
      "metadata": {
        "id": "k_VuZtjwkFs0"
      },
      "execution_count": null,
      "outputs": []
    },
    {
      "cell_type": "code",
      "source": [
        "# Uma vez que uma das questões do problema é obter o número de infrações diárias, já vou criar uma coluna para separar o dia. Foi necessário pedir para filtrar pelo mês, em função do formato da data.\n",
        "db[\"dia_cometimento\"] = (db[\"cometimento\"].dt.month)"
      ],
      "metadata": {
        "id": "41H59O5lkYtP"
      },
      "execution_count": null,
      "outputs": []
    },
    {
      "cell_type": "code",
      "source": [
        "# Verificando se a coluna foi criada\n",
        "db.dtypes"
      ],
      "metadata": {
        "id": "nA-2mHyWkzSu"
      },
      "execution_count": null,
      "outputs": []
    },
    {
      "cell_type": "code",
      "source": [
        "db.tail(20)"
      ],
      "metadata": {
        "id": "pScp1Vphcnnw"
      },
      "execution_count": null,
      "outputs": []
    },
    {
      "cell_type": "code",
      "source": [
        "# Verificando a existência de valores nulos\n",
        "db.isnull().sum()\n",
        "#Verifica-se que há dados faltantes em algumas colunas, principalmente nos dados do local de cometimento da infração."
      ],
      "metadata": {
        "id": "RyBcA3Kak_KM"
      },
      "execution_count": null,
      "outputs": []
    },
    {
      "cell_type": "code",
      "source": [
        "# Avaliando a quantidade de infrações de cada tipo\n",
        "db[\"grav_tipo\"].value_counts(ascending=True)"
      ],
      "metadata": {
        "id": "n59u7kgGm8sC",
        "colab": {
          "base_uri": "https://localhost:8080/"
        },
        "outputId": "50fc4e1a-1729-4c0a-d6c9-a647860dcf8d"
      },
      "execution_count": null,
      "outputs": [
        {
          "output_type": "execute_result",
          "data": {
            "text/plain": [
              "Gravíssima     430\n",
              "Grave          712\n",
              "Leve           998\n",
              "Média         2746\n",
              "Name: grav_tipo, dtype: int64"
            ]
          },
          "metadata": {},
          "execution_count": 16
        }
      ]
    },
    {
      "cell_type": "code",
      "source": [
        "# Avaliando o número de infrações diárias\n",
        "db.groupby(\"dia_cometimento\")[\"tipo_infracao\"].count()"
      ],
      "metadata": {
        "id": "-zazbMEUnb_W"
      },
      "execution_count": null,
      "outputs": []
    },
    {
      "cell_type": "code",
      "source": [
        "# Montando gráfico de barras com o número de infrações por tipo\n",
        "db[\"grav_tipo\"].value_counts().plot.bar()\n",
        "plt.xlabel(\"Tipo de infração\")\n",
        "plt.ylabel(\"Total\")"
      ],
      "metadata": {
        "colab": {
          "base_uri": "https://localhost:8080/",
          "height": 342
        },
        "id": "9whzg-xG7RSx",
        "outputId": "593a520c-9d51-49ff-80d8-2720da792b64"
      },
      "execution_count": 13,
      "outputs": [
        {
          "output_type": "execute_result",
          "data": {
            "text/plain": [
              "Text(0, 0.5, 'Total')"
            ]
          },
          "metadata": {},
          "execution_count": 13
        },
        {
          "output_type": "display_data",
          "data": {
            "text/plain": [
              "<Figure size 432x288 with 1 Axes>"
            ],
            "image/png": "[encoded data removed]"
          },
          "metadata": {
            "needs_background": "light"
          }
        }
      ]
    },
    {
      "cell_type": "code",
      "source": [
        "# Para uma visualização geral e mais rápida dos dados de tipo de infrator, será construído um gráfico de pizza.\n",
        "db[\"tipo_infrator\"].value_counts().plot.pie()"
      ],
      "metadata": {
        "colab": {
          "base_uri": "https://localhost:8080/",
          "height": 265
        },
        "id": "1V1p0UCs8jDh",
        "outputId": "beec02a7-63a3-4a6a-c96b-3b003df1c012"
      },
      "execution_count": 14,
      "outputs": [
        {
          "output_type": "execute_result",
          "data": {
            "text/plain": [
              "<matplotlib.axes._subplots.AxesSubplot at 0x7fb8bc79bb10>"
            ]
          },
          "metadata": {},
          "execution_count": 14
        },
        {
          "output_type": "display_data",
          "data": {
            "text/plain": [
              "<Figure size 432x288 with 1 Axes>"
            ],
            "image/png": "[encoded data removed]"
          },
          "metadata": {}
        }
      ]
    },
    {
      "cell_type": "code",
      "source": [
        "# Para a visualização do total de infratores por tipo, será construído um gráfico de barras verticais. O ideal seria realizar um corte no eixo Y, para diminuir a diferença de escala, mas ainda não sei fazer isso.\n",
        "db[\"tipo_infrator\"].value_counts().plot.bar()\n",
        "plt.xlabel(\"Tipo de infrator\")\n",
        "plt.ylabel(\"Total\")"
      ],
      "metadata": {
        "colab": {
          "base_uri": "https://localhost:8080/",
          "height": 344
        },
        "id": "_UzoWPoG87UI",
        "outputId": "95ef09a1-b597-4894-a668-bb373790e841"
      },
      "execution_count": 17,
      "outputs": [
        {
          "output_type": "execute_result",
          "data": {
            "text/plain": [
              "Text(0, 0.5, 'Total')"
            ]
          },
          "metadata": {},
          "execution_count": 17
        },
        {
          "output_type": "display_data",
          "data": {
            "text/plain": [
              "<Figure size 432x288 with 1 Axes>"
            ],
            "image/png": "[encoded data removed]"
          },
          "metadata": {
            "needs_background": "light"
          }
        }
      ]
    }
  ]
}